{
 "cells": [
  {
   "cell_type": "markdown",
   "metadata": {},
   "source": [
    "lcm and gcd \n",
    "lcm is the first max number which divides both the values \n",
    "gcd finds the min values which divides both the number\n"
   ]
  },
  {
   "cell_type": "code",
   "execution_count": 5,
   "metadata": {},
   "outputs": [
    {
     "name": "stdout",
     "output_type": "stream",
     "text": [
      "10.0 5\n"
     ]
    }
   ],
   "source": [
    "def fun(a:int,b:int):\n",
    "    gcd=1\n",
    "    lcm=a*b\n",
    "    for i in range(1,min(a,b)+1):\n",
    "        if(a%i==0 and b%i==0):\n",
    "            gcd=i\n",
    "            #print(i)\n",
    "    lcm/=gcd   \n",
    "    print(lcm,gcd)     \n",
    "\n",
    "if __name__==\"__main__\":\n",
    "    fun(5,10)\n",
    "\n",
    "\n"
   ]
  },
  {
   "cell_type": "code",
   "execution_count": 8,
   "metadata": {},
   "outputs": [
    {
     "name": "stdout",
     "output_type": "stream",
     "text": [
      "(10, 5)\n"
     ]
    }
   ],
   "source": [
    "def fun(a:int,b:int)->list[int]:\n",
    "    lcm=a*b\n",
    "    while(a%b!=0):\n",
    "        rem=a%b\n",
    "        a,b=b,rem\n",
    "    lcm/=rem\n",
    "    #return lcm,rem\n",
    "    return int(lcm),rem\n",
    "if __name__==\"__main__\":\n",
    "    #print(fun(5,10))    \n",
    "    # to get the int value as many test cases want to have int fro comareison\n",
    "    print(fun(5,10))"
   ]
  }
 ],
 "metadata": {
  "kernelspec": {
   "display_name": "base",
   "language": "python",
   "name": "python3"
  },
  "language_info": {
   "codemirror_mode": {
    "name": "ipython",
    "version": 3
   },
   "file_extension": ".py",
   "mimetype": "text/x-python",
   "name": "python",
   "nbconvert_exporter": "python",
   "pygments_lexer": "ipython3",
   "version": "3.10.9"
  }
 },
 "nbformat": 4,
 "nbformat_minor": 2
}
