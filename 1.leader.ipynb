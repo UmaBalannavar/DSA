{
 "cells": [
  {
   "cell_type": "markdown",
   "id": "8b05a055",
   "metadata": {},
   "source": [
    "Leader in an array \n",
    "the element who's ,\n",
    "everything on the right is smaller "
   ]
  },
  {
   "cell_type": "code",
   "execution_count": 1,
   "id": "52a35e11",
   "metadata": {},
   "outputs": [
    {
     "name": "stdout",
     "output_type": "stream",
     "text": [
      "[22, 12, 6]\n"
     ]
    }
   ],
   "source": [
    "def leader(a):\n",
    "    ans=[]\n",
    "    for i in range(len(a)):\n",
    "        leader=True\n",
    "        for j in range(i+1,len(a)):\n",
    "            if a[j]>=a[i]:\n",
    "                leader=False\n",
    "        if leader==True: ans.append(a[i])\n",
    "    return ans  \n",
    "if __name__==\"__main__\":\n",
    "    a=[10,22,12,3,0,6]\n",
    "    ans=leader(a)\n",
    "    print(ans)              "
   ]
  },
  {
   "cell_type": "markdown",
   "id": "a52a99a8",
   "metadata": {},
   "source": [
    "here is the ans form web,just from the explination"
   ]
  },
  {
   "cell_type": "code",
   "execution_count": 2,
   "id": "c2b9cc04",
   "metadata": {},
   "outputs": [],
   "source": [
    "class Solution:\n",
    "    # Function to find leaders in an array.\n",
    "    def leaders(self, nums):\n",
    "        ans = []\n",
    "\n",
    "        # Iterate through each element in nums\n",
    "        for i in range(len(nums)):\n",
    "            leader = True\n",
    "\n",
    "            '''Check whether nums[i] is greater\n",
    "            than all elements to its right'''\n",
    "            for j in range(i + 1, len(nums)):\n",
    "                if nums[j] >= nums[i]:\n",
    "                    '''If any element to the right is greater \n",
    "                    or equal, nums[i] is not a leader'''\n",
    "                    leader = False\n",
    "                    break\n",
    "\n",
    "            # If nums[i] is a leader, add it to the ans list\n",
    "            if leader:\n",
    "                ans.append(nums[i])\n",
    "\n",
    "        # Return the leaders\n",
    "        return ans"
   ]
  },
  {
   "cell_type": "markdown",
   "id": "842cbf8c",
   "metadata": {},
   "source": [
    "2nd approach \n",
    "here iterate negatively loop\n",
    "we comapre eache elem withe the maxm value and update that when we get the curre elem to be greater \n",
    "and add the curent elem to ans arrar"
   ]
  },
  {
   "cell_type": "markdown",
   "id": "331a7c43",
   "metadata": {},
   "source": [
    "def leader(a):\n",
    "    ans=[]\n",
    "    maxm=a[-1]\n",
    "    for i in range(len(a)-2,-1,-1):\n",
    "        if a[i]> maxm:\n",
    "            ans.append(a[i])\n",
    "            maxm=a[i]\n",
    "    return reversed(ans)        "
   ]
  },
  {
   "cell_type": "code",
   "execution_count": 8,
   "id": "108685bf",
   "metadata": {},
   "outputs": [
    {
     "name": "stdout",
     "output_type": "stream",
     "text": [
      "[22, 12, 6]\n"
     ]
    }
   ],
   "source": [
    "def leader(a):\n",
    "    ans=[]\n",
    "    maxm=a[-1]\n",
    "    ans.append(maxm)\n",
    "    if not a:\n",
    "        return ans\n",
    "    for i in range(len(a)-2,-1,-1):\n",
    "        if a[i]> maxm:\n",
    "            ans.append(a[i])\n",
    "            maxm=a[i]\n",
    "    ans.reverse()\n",
    "    return ans        \n",
    "if __name__==\"__main__\":\n",
    "    a=[10,22,12,3,0,6]\n",
    "    ans=leader(a)\n",
    "    print(ans)"
   ]
  }
 ],
 "metadata": {
  "kernelspec": {
   "display_name": ".venv",
   "language": "python",
   "name": "python3"
  },
  "language_info": {
   "codemirror_mode": {
    "name": "ipython",
    "version": 3
   },
   "file_extension": ".py",
   "mimetype": "text/x-python",
   "name": "python",
   "nbconvert_exporter": "python",
   "pygments_lexer": "ipython3",
   "version": "3.12.6"
  }
 },
 "nbformat": 4,
 "nbformat_minor": 5
}
