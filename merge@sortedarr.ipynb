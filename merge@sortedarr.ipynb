{
 "cells": [
  {
   "cell_type": "markdown",
   "id": "57ff0fa5",
   "metadata": {},
   "source": [
    "merge two sorted arrar"
   ]
  },
  {
   "cell_type": "markdown",
   "id": "ef6702ff",
   "metadata": {},
   "source": [
    "we can have two arrays nums1,nums2 \n",
    "pointer for each 1 and j \n",
    "and we comare each element of both arrays and into the new array we add the smallest one "
   ]
  },
  {
   "cell_type": "code",
   "execution_count": 2,
   "id": "b8a9284a",
   "metadata": {},
   "outputs": [
    {
     "ename": "IndexError",
     "evalue": "list index out of range",
     "output_type": "error",
     "traceback": [
      "\u001b[1;31m---------------------------------------------------------------------------\u001b[0m",
      "\u001b[1;31mIndexError\u001b[0m                                Traceback (most recent call last)",
      "Cell \u001b[1;32mIn[2], line 17\u001b[0m\n\u001b[0;32m     15\u001b[0m nums1\u001b[38;5;241m=\u001b[39m[\u001b[38;5;241m2\u001b[39m,\u001b[38;5;241m5\u001b[39m,\u001b[38;5;241m8\u001b[39m,\u001b[38;5;241m9\u001b[39m]\n\u001b[0;32m     16\u001b[0m nums2\u001b[38;5;241m=\u001b[39m[\u001b[38;5;241m0\u001b[39m,\u001b[38;5;241m3\u001b[39m,\u001b[38;5;241m4\u001b[39m,\u001b[38;5;241m6\u001b[39m,\u001b[38;5;241m7\u001b[39m,\u001b[38;5;241m8\u001b[39m]\n\u001b[1;32m---> 17\u001b[0m ans\u001b[38;5;241m=\u001b[39m\u001b[43munionarr\u001b[49m\u001b[43m(\u001b[49m\u001b[43mnums1\u001b[49m\u001b[43m,\u001b[49m\u001b[43mnums2\u001b[49m\u001b[43m)\u001b[49m\n\u001b[0;32m     18\u001b[0m \u001b[38;5;28mprint\u001b[39m(ans)\n",
      "Cell \u001b[1;32mIn[2], line 7\u001b[0m, in \u001b[0;36munionarr\u001b[1;34m(nums1, nums2)\u001b[0m\n\u001b[0;32m      5\u001b[0m i\u001b[38;5;241m=\u001b[39m\u001b[38;5;241m0\u001b[39m\n\u001b[0;32m      6\u001b[0m \u001b[38;5;28;01mfor\u001b[39;00m i \u001b[38;5;129;01min\u001b[39;00m \u001b[38;5;28mrange\u001b[39m(x):\n\u001b[1;32m----> 7\u001b[0m     \u001b[38;5;28;01mif\u001b[39;00m \u001b[43mnums1\u001b[49m\u001b[43m[\u001b[49m\u001b[43mi\u001b[49m\u001b[43m]\u001b[49m\u001b[38;5;241m>\u001b[39m\u001b[38;5;241m=\u001b[39mnums2[j] \u001b[38;5;129;01mand\u001b[39;00m i\u001b[38;5;241m>\u001b[39m\u001b[38;5;241m=\u001b[39mj:\n\u001b[0;32m      8\u001b[0m         unionarr\u001b[38;5;241m.\u001b[39mappend(nums1[i])\n\u001b[0;32m      9\u001b[0m     \u001b[38;5;28;01melse\u001b[39;00m :\n",
      "\u001b[1;31mIndexError\u001b[0m: list index out of range"
     ]
    }
   ],
   "source": [
    "def unionarr(nums1,nums2):\n",
    "    unionarr=[]\n",
    "    x=len(nums1)+len(nums2)\n",
    "    j=0\n",
    "    i=0\n",
    "    for i in range(x):\n",
    "        if nums1[i]>=nums2[j] and i>=j:\n",
    "            unionarr.append(nums1[i])\n",
    "        else :\n",
    "            unionarr.append(nums2[j])\n",
    "            j=j+1\n",
    "    return unionarr\n",
    "\n",
    "if __name__==\"__main__\":\n",
    "    nums1=[2,5,8,9]\n",
    "    nums2=[0,3,4,6,7,8]\n",
    "    ans=unionarr(nums1,nums2)\n",
    "    print(ans)"
   ]
  },
  {
   "cell_type": "markdown",
   "id": "04283113",
   "metadata": {},
   "source": [
    "there is one more method where i addboth the arrays into a single new array ,later sort and set to get the union"
   ]
  },
  {
   "cell_type": "code",
   "execution_count": null,
   "id": "9ed6ad93",
   "metadata": {},
   "outputs": [
    {
     "name": "stdout",
     "output_type": "stream",
     "text": [
      "[0, 2, 3, 4, 5, 6, 7, 8, 9]\n"
     ]
    }
   ],
   "source": [
    "def unionarr1(nums1,nums2):\n",
    "    unionarr=nums1[:]+nums2[:]\n",
    "    return sorted(set(unionarr))\n",
    "\n",
    "\n",
    "if __name__==\"__main__\":\n",
    "    nums1=[2,5,8,9]\n",
    "    nums2=[0,3,4,6,7,8]\n",
    "    ans=unionarr1(nums1,nums2)\n",
    "    print(ans)"
   ]
  },
  {
   "cell_type": "code",
   "execution_count": 4,
   "id": "73afb2a3",
   "metadata": {},
   "outputs": [
    {
     "name": "stdout",
     "output_type": "stream",
     "text": [
      "[0, 2, 3, 4, 5, 6, 7, 8, 9]\n"
     ]
    }
   ],
   "source": [
    "def unionarr1(nums1,nums2):\n",
    "    return sorted(set(nums1[:]+nums2[:]))\n",
    "\n",
    "\n",
    "if __name__==\"__main__\":\n",
    "    nums1=[2,5,8,9]\n",
    "    nums2=[0,3,4,6,7,8]\n",
    "    ans=unionarr1(nums1,nums2)\n",
    "    print(ans)"
   ]
  },
  {
   "cell_type": "markdown",
   "id": "ec596ebb",
   "metadata": {},
   "source": [
    "ik its not about wirthing the smallest code ,here in the above code wrote evrythong in laymen terms , every thing done by python builtins"
   ]
  },
  {
   "cell_type": "code",
   "execution_count": 2,
   "id": "c1ed748d",
   "metadata": {},
   "outputs": [
    {
     "name": "stdout",
     "output_type": "stream",
     "text": [
      "[0, 2, 3, 4, 5, 6, 7, 8, 8, 9]\n"
     ]
    }
   ],
   "source": [
    "def unionarr1(nums1,nums2):\n",
    "    m,n=len(nums1),len(nums2)\n",
    "    nums1[n:]=[0]*n\n",
    "    midx=m-1\n",
    "    nidx=n-1\n",
    "    right=m+n-1\n",
    "    while nidx>=0:\n",
    "        if midx>=0 and nums1[midx]>nums2[nidx]:\n",
    "            nums1[right]=nums1[midx]\n",
    "            midx-=1\n",
    "        else:\n",
    "            nums1[right]=nums2[nidx]\n",
    "            nidx-=1\n",
    "        right-=1\n",
    "    return nums1  \n",
    "if __name__==\"__main__\":\n",
    "    nums1=[2,5,8,9]\n",
    "    nums2=[0,3,4,6,7,8]\n",
    "    ans=unionarr1(nums1,nums2)\n",
    "    print(ans)  \n"
   ]
  }
 ],
 "metadata": {
  "kernelspec": {
   "display_name": "base",
   "language": "python",
   "name": "python3"
  },
  "language_info": {
   "codemirror_mode": {
    "name": "ipython",
    "version": 3
   },
   "file_extension": ".py",
   "mimetype": "text/x-python",
   "name": "python",
   "nbconvert_exporter": "python",
   "pygments_lexer": "ipython3",
   "version": "3.10.9"
  }
 },
 "nbformat": 4,
 "nbformat_minor": 5
}
