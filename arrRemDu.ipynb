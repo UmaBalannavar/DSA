{
 "cells": [
  {
   "cell_type": "markdown",
   "metadata": {},
   "source": [
    " Remove Duplicates from Sorted Array"
   ]
  },
  {
   "cell_type": "code",
   "execution_count": 16,
   "metadata": {},
   "outputs": [
    {
     "ename": "IndexError",
     "evalue": "list index out of range",
     "output_type": "error",
     "traceback": [
      "\u001b[1;31m---------------------------------------------------------------------------\u001b[0m",
      "\u001b[1;31mIndexError\u001b[0m                                Traceback (most recent call last)",
      "Cell \u001b[1;32mIn[16], line 14\u001b[0m\n\u001b[0;32m     12\u001b[0m arr\u001b[38;5;241m=\u001b[39m[\u001b[38;5;241m1\u001b[39m,\u001b[38;5;241m1\u001b[39m,\u001b[38;5;241m2\u001b[39m,\u001b[38;5;241m3\u001b[39m,\u001b[38;5;241m4\u001b[39m,\u001b[38;5;241m4\u001b[39m,\u001b[38;5;241m5\u001b[39m]\n\u001b[0;32m     13\u001b[0m n\u001b[38;5;241m=\u001b[39m\u001b[38;5;28mlen\u001b[39m(arr)\n\u001b[1;32m---> 14\u001b[0m ans\u001b[38;5;241m=\u001b[39m\u001b[43mremoveDuplicates\u001b[49m\u001b[43m(\u001b[49m\u001b[43marr\u001b[49m\u001b[43m,\u001b[49m\u001b[43mn\u001b[49m\u001b[43m)\u001b[49m\n\u001b[0;32m     15\u001b[0m \u001b[38;5;28mprint\u001b[39m(ans)\n",
      "Cell \u001b[1;32mIn[16], line 5\u001b[0m, in \u001b[0;36mremoveDuplicates\u001b[1;34m(arr, n)\u001b[0m\n\u001b[0;32m      3\u001b[0m a\u001b[38;5;241m=\u001b[39marr\n\u001b[0;32m      4\u001b[0m \u001b[38;5;28;01mfor\u001b[39;00m i \u001b[38;5;129;01min\u001b[39;00m \u001b[38;5;28mrange\u001b[39m(\u001b[38;5;241m1\u001b[39m,n):\n\u001b[1;32m----> 5\u001b[0m     \u001b[38;5;28;01mif\u001b[39;00m a[i]\u001b[38;5;241m==\u001b[39m\u001b[43ma\u001b[49m\u001b[43m[\u001b[49m\u001b[43mi\u001b[49m\u001b[38;5;241;43m+\u001b[39;49m\u001b[38;5;241;43m1\u001b[39;49m\u001b[43m]\u001b[49m:\n\u001b[0;32m      6\u001b[0m         a\u001b[38;5;241m.\u001b[39mremove(a[i])\n\u001b[0;32m      8\u001b[0m \u001b[38;5;28;01mreturn\u001b[39;00m a       \n",
      "\u001b[1;31mIndexError\u001b[0m: list index out of range"
     ]
    }
   ],
   "source": [
    "def removeDuplicates(arr,n)-> int:\n",
    "    # Write your code here.\n",
    "    a=arr\n",
    "    for i in range(1,n):\n",
    "        if a[i]==a[i+1]:\n",
    "            a.remove(a[i])\n",
    "            \n",
    "    return a       \n",
    "            \n",
    "    pass\n",
    "if __name__==\"__main__\":\n",
    "    arr=[1,1,2,3,4,4,5]\n",
    "    n=len(arr)\n",
    "    ans=removeDuplicates(arr,n)\n",
    "    print(ans)    "
   ]
  },
  {
   "cell_type": "code",
   "execution_count": 20,
   "metadata": {},
   "outputs": [
    {
     "ename": "IndexError",
     "evalue": "list index out of range",
     "output_type": "error",
     "traceback": [
      "\u001b[1;31m---------------------------------------------------------------------------\u001b[0m",
      "\u001b[1;31mIndexError\u001b[0m                                Traceback (most recent call last)",
      "Cell \u001b[1;32mIn[20], line 16\u001b[0m\n\u001b[0;32m     14\u001b[0m arr\u001b[38;5;241m=\u001b[39m[\u001b[38;5;241m1\u001b[39m,\u001b[38;5;241m1\u001b[39m,\u001b[38;5;241m2\u001b[39m,\u001b[38;5;241m3\u001b[39m,\u001b[38;5;241m4\u001b[39m,\u001b[38;5;241m4\u001b[39m,\u001b[38;5;241m5\u001b[39m]\n\u001b[0;32m     15\u001b[0m n\u001b[38;5;241m=\u001b[39m\u001b[38;5;28mlen\u001b[39m(arr)\n\u001b[1;32m---> 16\u001b[0m ans\u001b[38;5;241m=\u001b[39m\u001b[43mremoveDuplicates\u001b[49m\u001b[43m(\u001b[49m\u001b[43marr\u001b[49m\u001b[43m,\u001b[49m\u001b[43mn\u001b[49m\u001b[43m)\u001b[49m\n\u001b[0;32m     17\u001b[0m \u001b[38;5;28mprint\u001b[39m(ans)\n",
      "Cell \u001b[1;32mIn[20], line 6\u001b[0m, in \u001b[0;36mremoveDuplicates\u001b[1;34m(arr, n)\u001b[0m\n\u001b[0;32m      4\u001b[0m b\u001b[38;5;241m=\u001b[39m[]\n\u001b[0;32m      5\u001b[0m \u001b[38;5;28;01mfor\u001b[39;00m i \u001b[38;5;129;01min\u001b[39;00m \u001b[38;5;28mrange\u001b[39m(\u001b[38;5;241m1\u001b[39m,n):\n\u001b[1;32m----> 6\u001b[0m     \u001b[38;5;28;01mif\u001b[39;00m a[i]\u001b[38;5;241m==\u001b[39m\u001b[43ma\u001b[49m\u001b[43m[\u001b[49m\u001b[43mi\u001b[49m\u001b[38;5;241;43m+\u001b[39;49m\u001b[38;5;241;43m1\u001b[39;49m\u001b[43m]\u001b[49m:\n\u001b[0;32m      7\u001b[0m         a\u001b[38;5;241m.\u001b[39mremove(a[i])\n\u001b[0;32m      8\u001b[0m         b\u001b[38;5;241m.\u001b[39mappend(a[i\u001b[38;5;241m+\u001b[39m\u001b[38;5;241m1\u001b[39m])\n",
      "\u001b[1;31mIndexError\u001b[0m: list index out of range"
     ]
    }
   ],
   "source": [
    "def removeDuplicates(arr,n)-> int:\n",
    "    # Write your code here.\n",
    "    a=arr\n",
    "    b=[]\n",
    "    for i in range(1,n):\n",
    "        if a[i]==a[i+1]:\n",
    "            a.remove(a[i])\n",
    "            b.append(a[i+1])\n",
    "            \n",
    "    return b      \n",
    "            \n",
    "    pass\n",
    "if __name__==\"__main__\":\n",
    "    arr=[1,1,2,3,4,4,5]\n",
    "    n=len(arr)\n",
    "    ans=removeDuplicates(arr,n)\n",
    "    print(ans)    "
   ]
  },
  {
   "cell_type": "code",
   "execution_count": 37,
   "metadata": {},
   "outputs": [
    {
     "name": "stdout",
     "output_type": "stream",
     "text": [
      "[1, 2, 3, 4, 4, 5]\n"
     ]
    }
   ],
   "source": [
    "def fun(a,n):\n",
    "    b=[]\n",
    "    b.append(a[0])\n",
    "    i=0\n",
    "    for j in range(1,n):\n",
    "        if a[j]!=a[i]:\n",
    "            b.append(a[j])\n",
    "            i+=1\n",
    "            #else:\n",
    "                #j+=1\n",
    "    return b\n",
    "if __name__==\"__main__\":\n",
    "    arr=[1,1,2,3,4,4,5]\n",
    "    n=len(arr)\n",
    "    ans=fun(arr,n)\n",
    "    print(ans)                 "
   ]
  },
  {
   "cell_type": "code",
   "execution_count": 26,
   "metadata": {},
   "outputs": [
    {
     "name": "stdout",
     "output_type": "stream",
     "text": [
      "5\n"
     ]
    }
   ],
   "source": [
    "def fun(a,n):\n",
    "    i=0\n",
    "    for j in range(1,n):\n",
    "        if a[j]!=a[i]:\n",
    "            a[i+1]=a[j]\n",
    "            i+=1\n",
    "    return i+1\n",
    "if __name__==\"__main__\":\n",
    "    arr=[1,1,2,3,4,4,5]\n",
    "    n=len(arr)\n",
    "    ans=fun(arr,n)\n",
    "    print(ans)         \n",
    "\n"
   ]
  }
 ],
 "metadata": {
  "kernelspec": {
   "display_name": "base",
   "language": "python",
   "name": "python3"
  },
  "language_info": {
   "codemirror_mode": {
    "name": "ipython",
    "version": 3
   },
   "file_extension": ".py",
   "mimetype": "text/x-python",
   "name": "python",
   "nbconvert_exporter": "python",
   "pygments_lexer": "ipython3",
   "version": "3.10.9"
  }
 },
 "nbformat": 4,
 "nbformat_minor": 2
}
