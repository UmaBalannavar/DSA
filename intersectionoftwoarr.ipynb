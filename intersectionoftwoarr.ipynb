{
 "cells": [
  {
   "cell_type": "markdown",
   "id": "6e1cfa35",
   "metadata": {},
   "source": [
    "intersection of two sorted array"
   ]
  },
  {
   "cell_type": "code",
   "execution_count": 2,
   "id": "27a244c8",
   "metadata": {},
   "outputs": [
    {
     "name": "stdout",
     "output_type": "stream",
     "text": [
      "[2, 2]\n"
     ]
    }
   ],
   "source": [
    "def intersection(nums1,nums2):\n",
    "    visited=[0]*len(nums2)\n",
    "    ans=[]\n",
    "    for i in range(len(nums1)):\n",
    "        for j in range(len(nums2)):\n",
    "            if nums1[i]==nums2[j] and visited[j]==0:\n",
    "                ans.append(nums1[i])\n",
    "                visited[j]=1\n",
    "                break\n",
    "            if nums2[j]>nums1[i]: break \n",
    "    return ans\n",
    "\n",
    "if __name__ == \"__main__\":\n",
    "    nums1 = [1, 2, 2, 1]\n",
    "    nums2 = [2, 2]\n",
    "    print(intersection(nums1, nums2))  # Output: [2]"
   ]
  },
  {
   "cell_type": "code",
   "execution_count": 3,
   "id": "c7ac1025",
   "metadata": {},
   "outputs": [
    {
     "name": "stdout",
     "output_type": "stream",
     "text": [
      "[2, 2]\n"
     ]
    }
   ],
   "source": [
    "def intersection1(nums1,nums2):\n",
    "    ans=[]\n",
    "    i,j=0,0\n",
    "    while i<len(nums1) and j<len(nums2):\n",
    "        if nums1[i]==nums2[j]:\n",
    "            ans.append(nums1[i])\n",
    "            i+=1\n",
    "            j+=1\n",
    "        elif nums1[i]<nums2[j]:\n",
    "            i+=1\n",
    "        else :\n",
    "            j+=1\n",
    "    return ans\n",
    "\n",
    "if __name__ == \"__main__\":\n",
    "    nums1 = [1, 2, 2, 1]\n",
    "    nums2 = [2, 2]\n",
    "    print(intersection1(nums1, nums2))  # Output: [2]\n"
   ]
  }
 ],
 "metadata": {
  "kernelspec": {
   "display_name": "base",
   "language": "python",
   "name": "python3"
  },
  "language_info": {
   "codemirror_mode": {
    "name": "ipython",
    "version": 3
   },
   "file_extension": ".py",
   "mimetype": "text/x-python",
   "name": "python",
   "nbconvert_exporter": "python",
   "pygments_lexer": "ipython3",
   "version": "3.10.9"
  }
 },
 "nbformat": 4,
 "nbformat_minor": 5
}
