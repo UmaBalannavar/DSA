{
 "cells": [
  {
   "cell_type": "markdown",
   "id": "6d602ad5",
   "metadata": {},
   "source": [
    "Remove dupicates from array \n",
    "and the first elements of the array should be in Descending Order and at the first all the unique elements should be present \n",
    "we not care about what will be in the postion of removed duplictes elem place at end\n",
    "return the number of unique elements"
   ]
  },
  {
   "cell_type": "code",
   "execution_count": 1,
   "id": "53b3a11f",
   "metadata": {},
   "outputs": [
    {
     "name": "stdout",
     "output_type": "stream",
     "text": [
      "5\n"
     ]
    }
   ],
   "source": [
    "def removeduplicates(nums):\n",
    "    x=set(nums)\n",
    "    nums[:]=sorted(x)\n",
    "    return len(x)\n",
    "if __name__==\"__main__\":\n",
    "    nums=[1,1,1,2,2,3,3,5,6]\n",
    "    print(removeduplicates(nums))    "
   ]
  },
  {
   "cell_type": "markdown",
   "id": "5fb4f0ed",
   "metadata": {},
   "source": [
    "this is the coolest code ive ever written \n",
    "now a days im thinking im just writing code by hit and try, and reasoning , this a revison session so im kinda famlier wth this aproach,idk if its a good sign or not "
   ]
  },
  {
   "cell_type": "markdown",
   "id": "6ee5f151",
   "metadata": {},
   "source": [
    "lets the other approach "
   ]
  },
  {
   "cell_type": "code",
   "execution_count": 3,
   "id": "3fec2039",
   "metadata": {},
   "outputs": [
    {
     "name": "stdout",
     "output_type": "stream",
     "text": [
      "5\n"
     ]
    }
   ],
   "source": [
    "# This code removes duplicates from an array and sorts the unique elements in descending order.\n",
    "# It returns the number of unique elements in the array.\n",
    "def removeduplicates(nums):\n",
    "    j=0\n",
    "    for i in range(len(nums)):\n",
    "        if nums[i]!=nums[j]:\n",
    "            nums[j+1]=nums[i]\n",
    "            j+=1\n",
    "\n",
    "    return j+1\n",
    "\n",
    "if __name__==\"__main__\":\n",
    "    nums=[1,1,1,2,2,3,3,5,6]\n",
    "    print(removeduplicates(nums))        "
   ]
  }
 ],
 "metadata": {
  "kernelspec": {
   "display_name": "base",
   "language": "python",
   "name": "python3"
  },
  "language_info": {
   "codemirror_mode": {
    "name": "ipython",
    "version": 3
   },
   "file_extension": ".py",
   "mimetype": "text/x-python",
   "name": "python",
   "nbconvert_exporter": "python",
   "pygments_lexer": "ipython3",
   "version": "3.10.9"
  }
 },
 "nbformat": 4,
 "nbformat_minor": 5
}
