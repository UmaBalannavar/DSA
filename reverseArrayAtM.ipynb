{
 "cells": [
  {
   "cell_type": "markdown",
   "metadata": {},
   "source": [
    "Given an array/list 'ARR' of integers and a position ‘M’. You have to reverse the array after that position.\n",
    "\n",
    "Example:\n",
    "\n",
    "We have an array ARR = {1, 2, 3, 4, 5, 6} and M = 3 , considering 0 \n",
    "based indexing so the subarray {5, 6} will be reversed and our \n",
    "output array will be {1, 2, 3, 4, 6, 5}."
   ]
  },
  {
   "cell_type": "code",
   "execution_count": 2,
   "metadata": {},
   "outputs": [
    {
     "name": "stdout",
     "output_type": "stream",
     "text": [
      "[1, 2, 3, 4, 6, 5]\n"
     ]
    }
   ],
   "source": [
    "def fun(a,m):\n",
    "    x=a[m+1:]\n",
    "    x=x[::-1]\n",
    "    ans=a[:m+1]+x\n",
    "    return ans\n",
    "if __name__==\"__main__\":\n",
    "    a=[1,2,3,4,5,6]\n",
    "    m=3\n",
    "    print(fun(a,m) )   "
   ]
  }
 ],
 "metadata": {
  "kernelspec": {
   "display_name": "base",
   "language": "python",
   "name": "python3"
  },
  "language_info": {
   "codemirror_mode": {
    "name": "ipython",
    "version": 3
   },
   "file_extension": ".py",
   "mimetype": "text/x-python",
   "name": "python",
   "nbconvert_exporter": "python",
   "pygments_lexer": "ipython3",
   "version": "3.10.9"
  }
 },
 "nbformat": 4,
 "nbformat_minor": 2
}
