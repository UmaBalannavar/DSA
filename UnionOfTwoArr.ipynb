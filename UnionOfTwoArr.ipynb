{
 "cells": [
  {
   "cell_type": "code",
   "execution_count": 2,
   "metadata": {},
   "outputs": [
    {
     "name": "stdout",
     "output_type": "stream",
     "text": [
      "{1, 2, 3, 4, 5}\n"
     ]
    }
   ],
   "source": [
    "def fun(a:[int],b:[int])->[int]:\n",
    "    set1=set()\n",
    "    for i in range(len(a)):\n",
    "        set1.add(a[i])\n",
    "    for i in range(len(b)):\n",
    "        set1.add(b[i])\n",
    "    return set1\n",
    "if __name__==\"__main__\":\n",
    "    a=[1,2,3,4,5]\n",
    "    b=[1,2,3]\n",
    "    print(fun(a,b))          \n"
   ]
  },
  {
   "cell_type": "code",
   "execution_count": null,
   "metadata": {},
   "outputs": [
    {
     "name": "stdout",
     "output_type": "stream",
     "text": [
      "[1, 2, 2, 3, 4, 4, 5, 6, 7]\n",
      "None\n"
     ]
    }
   ],
   "source": [
    "# here we dont need to remove duplicated and we have m+n len of a array\n",
    "def fun(a:[int],b:[int]):\n",
    "    m=len(a)\n",
    "    n=len(b)\n",
    "    a[m-n:]=b\n",
    "    a.sort()\n",
    "    print(a)\n",
    "if __name__==\"__main__\":\n",
    "    a=[1,2,3,4,5,0,0,0,0]\n",
    "    b=[2,4,6,7]\n",
    "    print(fun(a,b))     "
   ]
  },
  {
   "cell_type": "code",
   "execution_count": 23,
   "metadata": {},
   "outputs": [
    {
     "name": "stdout",
     "output_type": "stream",
     "text": [
      "[1, 2, 2, 3, 4, 4, 5, 6, 7]\n"
     ]
    }
   ],
   "source": [
    "def fun(a:[int],b:[int]):\n",
    "    m=len(a)-len(b)\n",
    "    n=len(b)\n",
    "    midx=m-1\n",
    "    nidx=n-1\n",
    "    right=m+n-1\n",
    "    while nidx>=0:\n",
    "        if midx>=0 and a[midx]>b[nidx]:\n",
    "            a[right]=a[midx]\n",
    "            midx-=1\n",
    "        else :\n",
    "            a[right]=b[nidx]\n",
    "            #this is when the a array is exhausted\n",
    "            nidx-=1\n",
    "        right-=1\n",
    "        #after ever iterantion right should move -1 \n",
    "    print(a) \n",
    "if __name__==\"__main__\":\n",
    "    a=[1,2,3,4,5,0,0,0,0]\n",
    "    b=[2,4,6,7]\n",
    "    fun(a,b)                "
   ]
  },
  {
   "cell_type": "code",
   "execution_count": 21,
   "metadata": {},
   "outputs": [
    {
     "name": "stdout",
     "output_type": "stream",
     "text": [
      "[1, 2, 2, 3, 5, 6]\n"
     ]
    }
   ],
   "source": [
    "def merge(a: list[int],b: list[int]) -> None:\n",
    "        \"\"\"\n",
    "        Do not return anything, modify nums1 in-place instead.\n",
    "        \"\"\"\n",
    "        m=len(a)-len(b)\n",
    "        n=len(b)\n",
    "        midx=m-1\n",
    "        nidx=n-1\n",
    "        right=m+n-1\n",
    "        while nidx>=0 :\n",
    "            if midx>=0 and a[midx]>b[nidx]:\n",
    "                a[right]=a[midx]\n",
    "                midx-=1\n",
    "            else:\n",
    "                a[right]=b[nidx]\n",
    "                nidx-=1\n",
    "            right-=1         \n",
    "if __name__==\"__main__\":\n",
    "    a=[1,2,3,0,0,0]\n",
    "    b=[2,5,6]\n",
    "    merge(a,b)\n",
    "    print(a)            "
   ]
  },
  {
   "cell_type": "code",
   "execution_count": 20,
   "metadata": {},
   "outputs": [
    {
     "name": "stdout",
     "output_type": "stream",
     "text": [
      "[1, 2, 3, 4, 5]\n"
     ]
    }
   ],
   "source": [
    "def fun(a: [int], b: [int]) -> [int]:\n",
    "    # Write your code here\n",
    "    m=len(a)\n",
    "    n=len(b)\n",
    "    a.extend([0]*n)\n",
    "    midx=m-1\n",
    "    nidx=n-1\n",
    "    right=m+n-1\n",
    "    while nidx>=0:\n",
    "        if midx>=0 and a[midx]>b[nidx]:\n",
    "            a[right]=a[midx]\n",
    "            midx-=1\n",
    "        else:\n",
    "            a[right]=b[nidx]\n",
    "            nidx-=1\n",
    "        right-=1 \n",
    "    return sorted(set(a))           \n",
    "\n",
    "if __name__==\"__main__\":\n",
    "    a=[1,2,3,4,5]\n",
    "    b=[1,2,3]\n",
    "    print(fun(a,b)) "
   ]
  }
 ],
 "metadata": {
  "kernelspec": {
   "display_name": "base",
   "language": "python",
   "name": "python3"
  },
  "language_info": {
   "codemirror_mode": {
    "name": "ipython",
    "version": 3
   },
   "file_extension": ".py",
   "mimetype": "text/x-python",
   "name": "python",
   "nbconvert_exporter": "python",
   "pygments_lexer": "ipython3",
   "version": "3.10.9"
  }
 },
 "nbformat": 4,
 "nbformat_minor": 2
}
