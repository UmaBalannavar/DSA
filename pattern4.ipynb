{
 "cells": [
  {
   "cell_type": "markdown",
   "id": "c02d390c",
   "metadata": {},
   "source": [
    "1\n",
    "\n",
    "22\n",
    "\n",
    "333\n",
    "\n",
    "4444\n",
    "\n",
    "55555"
   ]
  },
  {
   "cell_type": "markdown",
   "id": "6f469149",
   "metadata": {},
   "source": [
    "and the second loop its always i+1 cos i starts from zero and we want j to stat from 1 always ans \n",
    "(1,n) cond does not wroks "
   ]
  },
  {
   "cell_type": "markdown",
   "id": "1aa2998b",
   "metadata": {},
   "source": [
    "always strt from i+1 in inner loop and and prints i+1"
   ]
  },
  {
   "cell_type": "code",
   "execution_count": 3,
   "id": "8a4de745",
   "metadata": {},
   "outputs": [
    {
     "name": "stdout",
     "output_type": "stream",
     "text": [
      "1\n",
      "22\n",
      "333\n",
      "4444\n",
      "55555\n"
     ]
    }
   ],
   "source": [
    "n=5 \n",
    "for i in range(n):\n",
    "    for j in range(i+1):\n",
    "        print(i+1,end=\"\")\n",
    "    print()"
   ]
  }
 ],
 "metadata": {
  "kernelspec": {
   "display_name": "base",
   "language": "python",
   "name": "python3"
  },
  "language_info": {
   "codemirror_mode": {
    "name": "ipython",
    "version": 3
   },
   "file_extension": ".py",
   "mimetype": "text/x-python",
   "name": "python",
   "nbconvert_exporter": "python",
   "pygments_lexer": "ipython3",
   "version": "3.10.9"
  }
 },
 "nbformat": 4,
 "nbformat_minor": 5
}
