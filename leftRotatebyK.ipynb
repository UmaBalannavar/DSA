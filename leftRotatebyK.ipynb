{
 "cells": [
  {
   "cell_type": "markdown",
   "metadata": {},
   "source": [
    "left rotate by k\n"
   ]
  },
  {
   "cell_type": "code",
   "execution_count": null,
   "metadata": {},
   "outputs": [
    {
     "name": "stdout",
     "output_type": "stream",
     "text": [
      "[4, 5, 6, 7, 1, 2, 3]\n",
      "[3, 99, -1, -100]\n"
     ]
    }
   ],
   "source": [
    "def fun(a:[int],k:int)->None:\n",
    "    temp=a[:]\n",
    "    n=len(a)\n",
    "    for i in range(k,n):\n",
    "        a[i-k]=a[i]\n",
    "    #j=0\n",
    "    for i in range(n-k,n):\n",
    "        a[i]=temp[i-(n-k)]\n",
    "    print(a)\n",
    "if __name__==\"__main__\":\n",
    "    a=[1,2,3,4,5,6,7]\n",
    "    k=3\n",
    "    b=[-1,-100,3,99]\n",
    "    l=2\n",
    "    fun(a,k)  \n",
    "    fun(b,l)          \n",
    "#this soln goes great with left rotation but this example is for both left and right hence we need to use difrrent approach    \n"
   ]
  },
  {
   "cell_type": "code",
   "execution_count": 10,
   "metadata": {},
   "outputs": [
    {
     "name": "stdout",
     "output_type": "stream",
     "text": [
      "[5, 6, 7, 1, 2, 3, 4]\n"
     ]
    }
   ],
   "source": [
    "def fun(a:[int],k:int)->None:\n",
    "    temp=a[:]\n",
    "    n=len(a)\n",
    "    k=k%n\n",
    "    k=k+1\n",
    "    for i in range(k,n):\n",
    "        a[i-k]=a[i]\n",
    "    j=0\n",
    "    for i in range(n-k,n):\n",
    "        a[i]=temp[i-(n-k)]\n",
    "        j+=1\n",
    "    print(a)\n",
    "if __name__==\"__main__\":\n",
    "    a=[1,2,3,4,5,6,7]\n",
    "    k=3\n",
    "    fun(a,k)            \n"
   ]
  },
  {
   "cell_type": "code",
   "execution_count": null,
   "metadata": {},
   "outputs": [],
   "source": [
    "#rotation (neither left nor right)\n"
   ]
  },
  {
   "cell_type": "code",
   "execution_count": null,
   "metadata": {},
   "outputs": [
    {
     "name": "stdout",
     "output_type": "stream",
     "text": [
      "[5, 6, 7, 1, 2, 3, 4]\n"
     ]
    }
   ],
   "source": [
    "#brute\n",
    "def fun(nums:[int],k:int):\n",
    "    n=len(nums)\n",
    "    k=k%n\n",
    "    rotated=[0]*n\n",
    "    for i in range(n):\n",
    "        rotated[(i+k)%n]=nums[i]\n",
    "    print(rotated)\n",
    "if __name__==\"__main__\":\n",
    "    a=[1,2,3,4,5,6,7]\n",
    "    k=3\n",
    "    fun(a,k)        \n",
    "#o(n)    "
   ]
  },
  {
   "cell_type": "code",
   "execution_count": null,
   "metadata": {},
   "outputs": [
    {
     "name": "stdout",
     "output_type": "stream",
     "text": [
      "[5, 6, 7, 1, 2, 3, 4]\n"
     ]
    }
   ],
   "source": [
    "#or\n",
    "#brute if you dont have to return or wan ans in the same arr\n",
    "def fun(nums:[int],k:int):\n",
    "    n=len(nums)\n",
    "    k=k%n\n",
    "    rotated=nums[:]\n",
    "    for i in range(n):\n",
    "        nums[(i+k)%n]=rotated[i]\n",
    "    print(nums)\n",
    "if __name__==\"__main__\":\n",
    "    a=[1,2,3,4,5,6,7]\n",
    "    k=3\n",
    "    fun(a,k)        \n",
    "#o(n)    \n"
   ]
  },
  {
   "cell_type": "code",
   "execution_count": null,
   "metadata": {},
   "outputs": [
    {
     "name": "stdout",
     "output_type": "stream",
     "text": [
      "[6, 7, 1, 2, 3, 4, 5]\n"
     ]
    }
   ],
   "source": [
    "#better swap segments\n",
    "def fun(nums:[int],k:int):\n",
    "    k=k%len(nums)\n",
    "    if k!=0:\n",
    "        nums[:k],nums[k:]=nums[-k:],nums[:-k]\n",
    "        #this should be done in single line \n",
    "if __name__==\"__main__\":\n",
    "    a=[1,2,3,4,5,6,7]\n",
    "    k=2\n",
    "    fun(a,k)\n",
    "    print(a)          "
   ]
  },
  {
   "cell_type": "markdown",
   "metadata": {},
   "source": [
    "[1,2,3,4,5,6,7]\n",
    "segment this arr \n",
    "[1,2,3,4,5] and [6,7] when k=2\n",
    "and reverse them\n",
    "[6,7\\\\1,2,3,4,5]\n",
    "\n",
    "[1 to 5] is called nums[:-k] every thing except last two \n",
    "[6,7] is called nums[-k:] onlt last two\n",
    "\n",
    "\n",
    "[6,7] is called nums[:k] only first two\n",
    "and [1,5] is called nums[k:] k to last tak"
   ]
  },
  {
   "cell_type": "code",
   "execution_count": 32,
   "metadata": {},
   "outputs": [
    {
     "name": "stdout",
     "output_type": "stream",
     "text": [
      "[5, 6, 7, 1, 2, 3, 4]\n"
     ]
    }
   ],
   "source": [
    "#reverse function\n",
    "#reverse whole array and then reverse segments\n",
    "def fun(nums:[int],k:int):\n",
    "    k%=len(nums)\n",
    "    def reverse(left,right):\n",
    "        while(left<right):\n",
    "            nums[left],nums[right]=nums[right],nums[left]\n",
    "            left+=1\n",
    "            right-=1\n",
    "    reverse(0,len(nums)-1)\n",
    "    reverse(0,k-1)\n",
    "    reverse(k,len(nums)-1)\n",
    "if __name__==\"__main__\":\n",
    "    a=[1,2,3,4,5,6,7]\n",
    "    k=3\n",
    "    fun(a,k) \n",
    "    print(a)     "
   ]
  }
 ],
 "metadata": {
  "kernelspec": {
   "display_name": "base",
   "language": "python",
   "name": "python3"
  },
  "language_info": {
   "codemirror_mode": {
    "name": "ipython",
    "version": 3
   },
   "file_extension": ".py",
   "mimetype": "text/x-python",
   "name": "python",
   "nbconvert_exporter": "python",
   "pygments_lexer": "ipython3",
   "version": "3.10.9"
  }
 },
 "nbformat": 4,
 "nbformat_minor": 2
}
