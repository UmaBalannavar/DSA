{
 "cells": [
  {
   "cell_type": "markdown",
   "id": "96411096",
   "metadata": {},
   "source": [
    "Reverse a given array \n"
   ]
  },
  {
   "cell_type": "markdown",
   "id": "46c0f4ad",
   "metadata": {},
   "source": [
    "aLthough it one of the first thing we learn as soon as start a programming language ,\n",
    "while coding all by self ,shook me \n",
    "i was mad when i couldnt get this right \n",
    "this thought me so much \n",
    "here is it"
   ]
  },
  {
   "cell_type": "markdown",
   "id": "1b463179",
   "metadata": {},
   "source": [
    "1st things first, there ara many ways to reverse an array \n",
    "i wnet which the most easiest approach, i used built in functions \n",
    "here i revered ans annary with arr[::-1 ]\n",
    "although its correct it only has local scope \n",
    "im gonn awrite the woring code first, to show why it doesnt work ...\n",
    "all these years i spent learning how a programing lang /logic works , now im learning why it dosent "
   ]
  },
  {
   "cell_type": "code",
   "execution_count": null,
   "id": "5dde5ad6",
   "metadata": {},
   "outputs": [
    {
     "name": "stdout",
     "output_type": "stream",
     "text": [
      "[3, 2, 1]\n"
     ]
    }
   ],
   "source": [
    "def reversearr(a):\n",
    "    return a[::-1]\n",
    "if __name__==\"__main__\":\n",
    "    a=[1,2,3]\n",
    "    ans=reversearr(a)\n",
    "    print(ans)\n",
    "    "
   ]
  },
  {
   "cell_type": "markdown",
   "id": "1a48603b",
   "metadata": {},
   "source": [
    "the above code dint work in a perticular ide , it wanted a arr to be raplaced with the  reveresed valeues but here a new copy of a revered array is made ,\n",
    "also this doenst work(didnt)"
   ]
  },
  {
   "cell_type": "code",
   "execution_count": 3,
   "id": "956a2e3d",
   "metadata": {},
   "outputs": [
    {
     "name": "stdout",
     "output_type": "stream",
     "text": [
      "[3, 2, 1]\n"
     ]
    }
   ],
   "source": [
    "def reversearr(a):\n",
    "    a=a[::-1]\n",
    "    return a\n",
    "if __name__==\"__main__\":\n",
    "    a=[1,2,3]\n",
    "    ans=reversearr(a)\n",
    "    print(ans)\n",
    "    "
   ]
  },
  {
   "cell_type": "markdown",
   "id": "b108540b",
   "metadata": {},
   "source": [
    "idk why but what worked in ide was "
   ]
  },
  {
   "cell_type": "code",
   "execution_count": 4,
   "id": "8e9bf2a5",
   "metadata": {},
   "outputs": [
    {
     "name": "stdout",
     "output_type": "stream",
     "text": [
      "[3, 2, 1]\n"
     ]
    }
   ],
   "source": [
    "def reversearr(a):\n",
    "    a[:]=a[::-1]\n",
    "    return a\n",
    "if __name__==\"__main__\":\n",
    "    a=[1,2,3]\n",
    "    ans=reversearr(a)\n",
    "    print(ans)\n",
    "    "
   ]
  },
  {
   "cell_type": "markdown",
   "id": "26d4212b",
   "metadata": {},
   "source": [
    "i replaced the entire reversed arr back to the origiinal array "
   ]
  },
  {
   "cell_type": "markdown",
   "id": "9c7a9523",
   "metadata": {},
   "source": [
    "and second of all , i uses tow pointer approach, which was correct but usinf=g for loop for iteration was not the best choice and thisdint works or i had to furteher specify the code"
   ]
  },
  {
   "cell_type": "code",
   "execution_count": 5,
   "id": "df8bc027",
   "metadata": {},
   "outputs": [
    {
     "name": "stdout",
     "output_type": "stream",
     "text": [
      "[3, 2, 1]\n"
     ]
    }
   ],
   "source": [
    "def reversearr(a):\n",
    "    j=len(a)-1\n",
    "    for i in range(len(a)):\n",
    "        if i<j:\n",
    "            a[i],a[j]=a[j],a[i]\n",
    "            j-=1\n",
    "    return a        \n",
    "if __name__==\"__main__\":\n",
    "    a=[1,2,3]\n",
    "    ans=reversearr(a)\n",
    "    print(ans)\n",
    "    "
   ]
  },
  {
   "cell_type": "markdown",
   "id": "f012f2b6",
   "metadata": {},
   "source": [
    "appranetly this also didnt work, i might have messed up earlier "
   ]
  },
  {
   "cell_type": "markdown",
   "id": "df7515ec",
   "metadata": {},
   "source": [
    "here is the final code "
   ]
  },
  {
   "cell_type": "code",
   "execution_count": 6,
   "id": "d4f891b7",
   "metadata": {},
   "outputs": [
    {
     "name": "stdout",
     "output_type": "stream",
     "text": [
      "[3, 2, 1]\n"
     ]
    }
   ],
   "source": [
    "def reversearr(a):\n",
    "    left=0\n",
    "    right=len(a)-1\n",
    "    while left<right:\n",
    "        a[left],a[right]=a[right],a[left]\n",
    "        left+=1\n",
    "        right-=1\n",
    "    return a    \n",
    "if __name__==\"__main__\":\n",
    "    a=[1,2,3]\n",
    "    ans=reversearr(a)\n",
    "    print(ans)\n",
    "    "
   ]
  }
 ],
 "metadata": {
  "kernelspec": {
   "display_name": "base",
   "language": "python",
   "name": "python3"
  },
  "language_info": {
   "codemirror_mode": {
    "name": "ipython",
    "version": 3
   },
   "file_extension": ".py",
   "mimetype": "text/x-python",
   "name": "python",
   "nbconvert_exporter": "python",
   "pygments_lexer": "ipython3",
   "version": "3.10.9"
  }
 },
 "nbformat": 4,
 "nbformat_minor": 5
}
