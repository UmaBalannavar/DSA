{
 "cells": [
  {
   "cell_type": "markdown",
   "id": "45e67cdb",
   "metadata": {},
   "source": [
    "Longest subarray with given sum K(positives) works well for case with Zeroes "
   ]
  },
  {
   "cell_type": "markdown",
   "id": "3e6fb1bf",
   "metadata": {},
   "source": [
    "there are two longest sub array with sum k problems\n",
    "1.with positive sum k -best soln using hash map \n",
    "works well for multiple zeroes to be includedin len\n",
    "2.with negative sum -best soln sliding window "
   ]
  },
  {
   "cell_type": "code",
   "execution_count": 3,
   "id": "e1335402",
   "metadata": {},
   "outputs": [
    {
     "name": "stdout",
     "output_type": "stream",
     "text": [
      "6\n"
     ]
    }
   ],
   "source": [
    "def fun (arr,k):\n",
    "    Psum=0\n",
    "    res=0\n",
    "    mp={}\n",
    "    for i in range (len(arr)):\n",
    "        Psum+=arr[i]\n",
    "        if Psum==k:\n",
    "            res=i+1\n",
    "        elif Psum-k in mp:\n",
    "            res=max(res,i-mp[Psum-k])\n",
    "        if Psum:\n",
    "            mp[Psum]=i\n",
    "    return res\n",
    "if __name__==\"__main__\":    \n",
    "    arr=[10,5,2,7,1,-10]\n",
    "    k=15\n",
    "    print(fun(arr,k))\n"
   ]
  }
 ],
 "metadata": {
  "kernelspec": {
   "display_name": "base",
   "language": "python",
   "name": "python3"
  },
  "language_info": {
   "codemirror_mode": {
    "name": "ipython",
    "version": 3
   },
   "file_extension": ".py",
   "mimetype": "text/x-python",
   "name": "python",
   "nbconvert_exporter": "python",
   "pygments_lexer": "ipython3",
   "version": "3.10.9"
  }
 },
 "nbformat": 4,
 "nbformat_minor": 5
}
