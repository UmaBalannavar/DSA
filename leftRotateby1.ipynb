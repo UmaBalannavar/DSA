{
 "cells": [
  {
   "cell_type": "markdown",
   "metadata": {},
   "source": [
    "left rotate by 1 in array \n",
    "we have to make the first elemnt as the last elmment \n",
    "ex [1,2,3,4,5]\n",
    "arr=[2,3,4,5,1]"
   ]
  },
  {
   "cell_type": "code",
   "execution_count": 2,
   "metadata": {},
   "outputs": [
    {
     "name": "stdout",
     "output_type": "stream",
     "text": [
      "[2, 3, 4, 5, 1]\n"
     ]
    }
   ],
   "source": [
    "def fun(a:[int])->None:\n",
    "    x=a[0]\n",
    "    for i in range(1,len(a)):\n",
    "        a[i-1]=a[i]\n",
    "    a.pop()\n",
    "    a.append(x)\n",
    "    print(a) \n",
    "if __name__==\"__main__\":\n",
    "    a=[1,2,3,4,5]\n",
    "    fun(a)       \n",
    "\n",
    "\n"
   ]
  },
  {
   "cell_type": "code",
   "execution_count": 3,
   "metadata": {},
   "outputs": [
    {
     "name": "stdout",
     "output_type": "stream",
     "text": [
      "[2, 3, 4, 5, 1]\n"
     ]
    }
   ],
   "source": [
    "def fun(a:[int])->None:\n",
    "    x=a[0]\n",
    "    for i in range(1,len(a)):\n",
    "        a[i-1]=a[i]\n",
    "    a[len(a)-1]=x\n",
    "    print(a) \n",
    "if __name__==\"__main__\":\n",
    "    a=[1,2,3,4,5]\n",
    "    fun(a)       \n",
    "\n",
    "\n"
   ]
  },
  {
   "cell_type": "markdown",
   "metadata": {},
   "source": [
    "\n",
    "tc=O(n)\n",
    "SC used is O(N)\n",
    "but extra space used is O(1)"
   ]
  }
 ],
 "metadata": {
  "kernelspec": {
   "display_name": "base",
   "language": "python",
   "name": "python3"
  },
  "language_info": {
   "codemirror_mode": {
    "name": "ipython",
    "version": 3
   },
   "file_extension": ".py",
   "mimetype": "text/x-python",
   "name": "python",
   "nbconvert_exporter": "python",
   "pygments_lexer": "ipython3",
   "version": "3.10.9"
  }
 },
 "nbformat": 4,
 "nbformat_minor": 2
}
