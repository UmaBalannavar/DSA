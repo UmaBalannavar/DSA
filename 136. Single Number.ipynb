{
 "cells": [
  {
   "cell_type": "markdown",
   "metadata": {},
   "source": [
    "Given a non-empty array of integers nums, every element appears twice except for one. Find that single one.\n",
    "\n",
    "You must implement a solution with a linear runtime complexity and use only constant extra space.\n",
    "\n",
    " "
   ]
  },
  {
   "cell_type": "code",
   "execution_count": 4,
   "metadata": {},
   "outputs": [
    {
     "name": "stdout",
     "output_type": "stream",
     "text": [
      "2\n"
     ]
    }
   ],
   "source": [
    "def fun(a:[int]):\n",
    "    seta=set(a)\n",
    "    seta=(sum(seta))*2\n",
    "    a=sum(a)\n",
    "    return seta-a\n",
    "if __name__==\"__main__\":\n",
    "    a=[1,1,2,3,3,4,4]\n",
    "    print(fun(a))    \n"
   ]
  },
  {
   "cell_type": "code",
   "execution_count": 5,
   "metadata": {},
   "outputs": [
    {
     "name": "stdout",
     "output_type": "stream",
     "text": [
      "2\n"
     ]
    }
   ],
   "source": [
    "def fun(a:[int]):\n",
    "    return (2*sum(set(a)))-sum(a)\n",
    "if __name__==\"__main__\":\n",
    "    a=[1,1,2,3,3,4,4]\n",
    "    print(fun(a))    \n"
   ]
  }
 ],
 "metadata": {
  "kernelspec": {
   "display_name": "base",
   "language": "python",
   "name": "python3"
  },
  "language_info": {
   "codemirror_mode": {
    "name": "ipython",
    "version": 3
   },
   "file_extension": ".py",
   "mimetype": "text/x-python",
   "name": "python",
   "nbconvert_exporter": "python",
   "pygments_lexer": "ipython3",
   "version": "3.10.9"
  }
 },
 "nbformat": 4,
 "nbformat_minor": 2
}
