{
 "cells": [
  {
   "cell_type": "code",
   "execution_count": 5,
   "metadata": {},
   "outputs": [
    {
     "name": "stdout",
     "output_type": "stream",
     "text": [
      "True\n",
      "False\n",
      "False\n"
     ]
    }
   ],
   "source": [
    "def fun(x:int):\n",
    "    org=x\n",
    "    #preserve the orgn value for last comparasion\n",
    "    rem=0\n",
    "    while(x>0):\n",
    "        ld=x%10\n",
    "        rem=(rem*10)+ld\n",
    "        x=x//10\n",
    "        #print(rem)\n",
    "    return True if (rem==org) else False    \n",
    "if __name__==\"__main__\":\n",
    "    print(fun(121))\n",
    "    print(fun(-121))\n",
    "    print(fun(10))    "
   ]
  }
 ],
 "metadata": {
  "kernelspec": {
   "display_name": "base",
   "language": "python",
   "name": "python3"
  },
  "language_info": {
   "codemirror_mode": {
    "name": "ipython",
    "version": 3
   },
   "file_extension": ".py",
   "mimetype": "text/x-python",
   "name": "python",
   "nbconvert_exporter": "python",
   "pygments_lexer": "ipython3",
   "version": "3.10.9"
  }
 },
 "nbformat": 4,
 "nbformat_minor": 2
}
