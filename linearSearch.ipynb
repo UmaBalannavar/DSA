{
 "cells": [
  {
   "cell_type": "markdown",
   "metadata": {},
   "source": [
    "Linear search \n",
    "traverse the whole arr and then retrun false"
   ]
  },
  {
   "cell_type": "code",
   "execution_count": 2,
   "metadata": {},
   "outputs": [
    {
     "name": "stdout",
     "output_type": "stream",
     "text": [
      "4\n",
      "-1\n"
     ]
    }
   ],
   "source": [
    "def fun(nums:[int],k:int)->int:\n",
    "    n=len(nums)\n",
    "    for i in range(n):\n",
    "        if nums[i]==k:\n",
    "            return i\n",
    "    else : return -1\n",
    "if __name__==\"__main__\":\n",
    "    a=[1,2,3,4,5]\n",
    "    b=[1,2,3]\n",
    "    k=5\n",
    "    print(fun(a,k))\n",
    "    print(fun(b,k))            \n"
   ]
  }
 ],
 "metadata": {
  "kernelspec": {
   "display_name": "base",
   "language": "python",
   "name": "python3"
  },
  "language_info": {
   "codemirror_mode": {
    "name": "ipython",
    "version": 3
   },
   "file_extension": ".py",
   "mimetype": "text/x-python",
   "name": "python",
   "nbconvert_exporter": "python",
   "pygments_lexer": "ipython3",
   "version": "3.10.9"
  }
 },
 "nbformat": 4,
 "nbformat_minor": 2
}
