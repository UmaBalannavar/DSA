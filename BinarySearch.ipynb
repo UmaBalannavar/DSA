{
 "cells": [
  {
   "cell_type": "code",
   "execution_count": null,
   "metadata": {},
   "outputs": [
    {
     "name": "stdout",
     "output_type": "stream",
     "text": [
      "4\n",
      "-1\n"
     ]
    }
   ],
   "source": [
    "def fun(a:[int],k:int)->int:\n",
    "    n=len(a)\n",
    "    l,h=0,n-1\n",
    "    \n",
    "    def midd(l,h):\n",
    "        return (l+h)//2\n",
    "    \n",
    "    while l<=h:\n",
    "        m=midd(l,h) \n",
    "        if a[m]>k:\n",
    "            h=m-1\n",
    "        elif a[m]<k:\n",
    "            l=m+1\n",
    "        else:\n",
    "            return m\n",
    "    else:\n",
    "        return -1\n",
    "\n",
    "if __name__==\"__main__\":\n",
    "    a=[1,2,3,4,5]\n",
    "    b=[1,2,3]\n",
    "    k=5\n",
    "    print(fun(a,k))\n",
    "    print(fun(b,k))\n"
   ]
  }
 ],
 "metadata": {
  "kernelspec": {
   "display_name": "base",
   "language": "python",
   "name": "python3"
  },
  "language_info": {
   "codemirror_mode": {
    "name": "ipython",
    "version": 3
   },
   "file_extension": ".py",
   "mimetype": "text/x-python",
   "name": "python",
   "nbconvert_exporter": "python",
   "pygments_lexer": "ipython3",
   "version": "3.10.9"
  }
 },
 "nbformat": 4,
 "nbformat_minor": 2
}
