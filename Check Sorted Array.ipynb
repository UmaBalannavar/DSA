{
 "cells": [
  {
   "cell_type": "code",
   "execution_count": 6,
   "metadata": {},
   "outputs": [
    {
     "name": "stdout",
     "output_type": "stream",
     "text": [
      "1\n"
     ]
    }
   ],
   "source": [
    "def isSorted(n: int,  a: [int]) -> int:\n",
    "    # Write your code here.\n",
    "    if len(a)<=1:\n",
    "        return 1\n",
    "    for i in range(len(a)-1):\n",
    "        #if a[i]<a[i+1] or a[i]==a[i+1]:\n",
    "        if a[i]<=a[i+1]:\n",
    "            pass  \n",
    "        else:\n",
    "            return 0\n",
    "    return 1    \n",
    "if __name__==\"__main__\" :\n",
    "    #arr=[1,2,3,4,5]\n",
    "    arr=[0,0,0,1]\n",
    "    ans=isSorted(len(arr),arr)\n",
    "    print(ans)    "
   ]
  },
  {
   "cell_type": "code",
   "execution_count": 3,
   "metadata": {},
   "outputs": [
    {
     "name": "stdout",
     "output_type": "stream",
     "text": [
      "0\n"
     ]
    }
   ],
   "source": [
    "def isSorted(n: int,  a: [int]) -> int:\n",
    "    # Write your code here.\n",
    "    for i in range(1,len(a)-1):\n",
    "        if a[i]<a[i-1]:\n",
    "            pass\n",
    "        else:\n",
    "            return 0 \n",
    "    return 1    \n",
    "if __name__==\"__main__\" :\n",
    "    arr=[1,2,3,4,5]\n",
    "    ans=isSorted(len(arr),arr)\n",
    "    print(ans)              "
   ]
  },
  {
   "cell_type": "code",
   "execution_count": 4,
   "metadata": {},
   "outputs": [
    {
     "name": "stdout",
     "output_type": "stream",
     "text": [
      "1\n"
     ]
    }
   ],
   "source": [
    "#using two pointer approach\n",
    "def fun(a:[int],n:int):\n",
    "    i=0\n",
    "    for j in range(1,n-1):\n",
    "        if a[i]<a[j]:\n",
    "            i+=1\n",
    "        elif a[i]==a[j]:\n",
    "            pass\n",
    "        else :\n",
    "            return 0\n",
    "    return 1\n",
    "if __name__==\"__main__\" :\n",
    "    arr=[1,2,3,4,5]\n",
    "    ans=fun(arr,len(arr))\n",
    "    print(ans)         "
   ]
  },
  {
   "cell_type": "code",
   "execution_count": 5,
   "metadata": {},
   "outputs": [
    {
     "name": "stdout",
     "output_type": "stream",
     "text": [
      "1\n"
     ]
    }
   ],
   "source": [
    "def isSorted(n: int,  a: [int]) -> int:\n",
    "    # Write your code here.\n",
    "    if len(a)<=1:\n",
    "        return 1\n",
    "    for i in range(len(a)-1):\n",
    "        #if a[i]<a[i+1] or a[i]==a[i+1]:\n",
    "        #if a[i]>=a[i-1]\n",
    "        if a[i]<=a[i+1]:\n",
    "            pass  \n",
    "        else:\n",
    "            return 0\n",
    "    return 1    \n",
    "if __name__==\"__main__\" :\n",
    "    #arr=[1,2,3,4,5]\n",
    "    arr=[0,0,0,1]\n",
    "    ans=isSorted(len(arr),arr)\n",
    "    print(ans)    "
   ]
  }
 ],
 "metadata": {
  "kernelspec": {
   "display_name": "base",
   "language": "python",
   "name": "python3"
  },
  "language_info": {
   "codemirror_mode": {
    "name": "ipython",
    "version": 3
   },
   "file_extension": ".py",
   "mimetype": "text/x-python",
   "name": "python",
   "nbconvert_exporter": "python",
   "pygments_lexer": "ipython3",
   "version": "3.10.9"
  }
 },
 "nbformat": 4,
 "nbformat_minor": 2
}
