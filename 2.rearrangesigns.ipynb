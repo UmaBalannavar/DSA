{
 "cells": [
  {
   "cell_type": "markdown",
   "id": "80de0921",
   "metadata": {},
   "source": [
    "we are given with array ehich has equal number of negative and positive elements,\n",
    "we need to arrange positive elem as 1st elem at array,and alternatively we positive and negative elements,\n",
    "\n",
    "approach here,we can divide the elements as postive and negative in seperate array \n",
    "later join them."
   ]
  },
  {
   "cell_type": "code",
   "execution_count": 7,
   "id": "fc0c4384",
   "metadata": {},
   "outputs": [
    {
     "name": "stdout",
     "output_type": "stream",
     "text": [
      "[2, 4, 5]\n",
      "[-1, -3, -4]\n",
      "[2, -1, 4, -1, 5, -1]\n"
     ]
    }
   ],
   "source": [
    "nums = [2, 4, 5, -1, -3, -4]\n",
    "pos=[]\n",
    "neg=[]\n",
    "for i in range(len(nums)):\n",
    "    if nums[i]>=0:\n",
    "        pos.append(nums[i])\n",
    "    else :\n",
    "        neg.append(nums[i])\n",
    "print(pos)\n",
    "print(neg)\n",
    "\n",
    "ans=[]\n",
    "for i in range(len(pos)):\n",
    "    ans.append(pos[i])\n",
    "    for j in range(len(neg)):\n",
    "        ans.append(neg[j])\n",
    "        break\n",
    "print(ans)    \n"
   ]
  },
  {
   "cell_type": "code",
   "execution_count": 9,
   "id": "1b6a7e64",
   "metadata": {},
   "outputs": [
    {
     "name": "stdout",
     "output_type": "stream",
     "text": [
      "[2, -1, 4, -1, 5, -1]\n"
     ]
    }
   ],
   "source": [
    "def arrange_signs(nums):\n",
    "    positive = []\n",
    "    negative = []\n",
    "    ans=[]\n",
    "    for num in nums:\n",
    "        if num>=0:\n",
    "            positive.append(num)\n",
    "        else:\n",
    "            negative.append(num)        \n",
    "    for i in range(len(positive)):\n",
    "        ans.append(positive[i])\n",
    "        for j in range(len(negative)):\n",
    "            ans.append(negative[j])\n",
    "            break\n",
    "    return ans\n",
    "\n",
    "if __name__ == \"__main__\":\n",
    "    nums = [2, 4, 5, -1, -3, -4]\n",
    "    result = arrange_signs(nums)\n",
    "    print(result)  # Output: [2, -1, 4, -3, 5, -4]"
   ]
  },
  {
   "cell_type": "code",
   "execution_count": 12,
   "id": "69ef576d",
   "metadata": {},
   "outputs": [
    {
     "name": "stdout",
     "output_type": "stream",
     "text": [
      "[2, -1, 4, -3, 5, -4]\n"
     ]
    }
   ],
   "source": [
    "def arrange_signs(nums):\n",
    "    positive = []\n",
    "    negative = []\n",
    "    ans=[]\n",
    "    for num in nums:\n",
    "        if num>=0:\n",
    "            positive.append(num)\n",
    "        else:\n",
    "            negative.append(num)        \n",
    "    for i in range(len(positive)):\n",
    "        ans.append(positive[i])\n",
    "        ans.append(negative[i])\n",
    "    return ans\n",
    "\n",
    "if __name__ == \"__main__\":\n",
    "    nums = [2, 4, 5, -1, -3, -4]\n",
    "    result = arrange_signs(nums)\n",
    "    print(result)  # Output: [2, -1, 4, -3, 5, -4]"
   ]
  },
  {
   "cell_type": "markdown",
   "id": "bee97d71",
   "metadata": {},
   "source": [
    "2nd approach do it in one pass"
   ]
  },
  {
   "cell_type": "code",
   "execution_count": 14,
   "id": "4c76389f",
   "metadata": {},
   "outputs": [
    {
     "name": "stdout",
     "output_type": "stream",
     "text": [
      "[2, -1, 4, -3, 5, -4]\n"
     ]
    }
   ],
   "source": [
    "def arrange_signs1(nums):\n",
    "    ans=[0]*len(nums)\n",
    "    positive,negative=0,1\n",
    "    for i in range(len(nums)):\n",
    "        if nums[i]>=0:\n",
    "            ans[positive]=nums[i]\n",
    "            positive+=2\n",
    "        else :\n",
    "            ans[negative]=nums[i]\n",
    "            negative+=2\n",
    "    return ans\n",
    "\n",
    "if __name__ == \"__main__\":\n",
    "    nums = [2, 4, 5, -1, -3, -4]\n",
    "    result = arrange_signs1(nums)\n",
    "    print(result)             \n"
   ]
  }
 ],
 "metadata": {
  "kernelspec": {
   "display_name": ".venv",
   "language": "python",
   "name": "python3"
  },
  "language_info": {
   "codemirror_mode": {
    "name": "ipython",
    "version": 3
   },
   "file_extension": ".py",
   "mimetype": "text/x-python",
   "name": "python",
   "nbconvert_exporter": "python",
   "pygments_lexer": "ipython3",
   "version": "3.12.6"
  }
 },
 "nbformat": 4,
 "nbformat_minor": 5
}
