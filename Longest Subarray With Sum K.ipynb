{
 "cells": [
  {
   "cell_type": "markdown",
   "metadata": {},
   "source": [
    "You are given an array 'a' of size 'n' and an integer 'k'.\n",
    "\n",
    "\n",
    "\n",
    "Find the length of the longest subarray of 'a' whose sum is equal to 'k'.\n",
    "\n",
    "\n",
    "\n",
    "Example :\n",
    "Input: ‘n’ = 7 ‘k’ = 3\n",
    "‘a’ = [1, 2, 3, 1, 1, 1, 1]\n",
    "\n",
    "Output: 3\n",
    "\n",
    "Explanation: Subarrays whose sum = ‘3’ are:\n",
    "\n",
    "[1, 2], [3], [1, 1, 1] and [1, 1, 1]\n",
    "\n",
    "Here, the length of the longest subarray is 3, which is our final answer."
   ]
  },
  {
   "cell_type": "code",
   "execution_count": 3,
   "metadata": {},
   "outputs": [
    {
     "name": "stdout",
     "output_type": "stream",
     "text": [
      "3\n"
     ]
    }
   ],
   "source": [
    "def longestSubarrayWithSumK(a: [int], k: int) -> int:\n",
    "    # Write your code here\n",
    "    n=len(a)\n",
    "    max_len=0\n",
    "    for i in range(n):\n",
    "        curr_sum=0\n",
    "        for j in range(i,n):\n",
    "            curr_sum+=a[j]\n",
    "            if curr_sum==k:\n",
    "                max_len=max(max_len,j-i+1)\n",
    "    return max_len            \n",
    "\n",
    "if __name__==\"__main__\":\n",
    "    a=[1,2,3,1,1,1,1,1]\n",
    "    k=3\n",
    "    print(longestSubarrayWithSumK(a,k))\n"
   ]
  },
  {
   "cell_type": "markdown",
   "metadata": {},
   "source": [
    "has o(n2) compexity no extra space !!"
   ]
  },
  {
   "cell_type": "markdown",
   "metadata": {},
   "source": [
    "we can use sliding window approach "
   ]
  },
  {
   "cell_type": "code",
   "execution_count": 6,
   "metadata": {},
   "outputs": [
    {
     "name": "stdout",
     "output_type": "stream",
     "text": [
      "3\n"
     ]
    }
   ],
   "source": [
    "def fun(a :[int],k :int )-> int:\n",
    "    hash_map={}\n",
    "    prefix_sum=0\n",
    "    max_len=0\n",
    "    rem=0\n",
    "    for i in range(len(a)):\n",
    "        prefix_sum+=a[i]\n",
    "        if prefix_sum==k:\n",
    "            max_len=max(i+1,max_len)\n",
    "        rem=prefix_sum-k\n",
    "        if rem in hash_map:\n",
    "            lenn=i-hash_map[rem]\n",
    "            max_len=max(lenn,max_len)\n",
    "        if prefix_sum not in hash_map:\n",
    "            hash_map[prefix_sum]=i    \n",
    "    return max_len        \n",
    "\n",
    "if __name__==\"__main__\":\n",
    "    a=[2,3,5,1,9]\n",
    "    k=10\n",
    "    print(fun(a,k))"
   ]
  }
 ],
 "metadata": {
  "kernelspec": {
   "display_name": "base",
   "language": "python",
   "name": "python3"
  },
  "language_info": {
   "codemirror_mode": {
    "name": "ipython",
    "version": 3
   },
   "file_extension": ".py",
   "mimetype": "text/x-python",
   "name": "python",
   "nbconvert_exporter": "python",
   "pygments_lexer": "ipython3",
   "version": "3.10.9"
  }
 },
 "nbformat": 4,
 "nbformat_minor": 2
}
