{
 "cells": [
  {
   "cell_type": "markdown",
   "metadata": {},
   "source": [
    "485. Max Consecutive Ones\n",
    "Given a binary array nums, return the maximum number of consecutive 1's in the array.\n",
    "\n",
    " \n",
    "\n",
    "Example 1:\n",
    "\n",
    "Input: nums = [1,1,0,1,1,1]\n",
    "Output: 3\n",
    "Explanation: The first two digits or the last three digits are consecutive 1s. The maximum number of consecutive 1s is 3.\n",
    "Example 2:\n",
    "\n",
    "Input: nums = [1,0,1,1,0,1]\n",
    "Output: 2\n",
    " "
   ]
  },
  {
   "cell_type": "code",
   "execution_count": 2,
   "metadata": {},
   "outputs": [
    {
     "name": "stdout",
     "output_type": "stream",
     "text": [
      "3\n",
      "2\n"
     ]
    }
   ],
   "source": [
    "def fun(a):\n",
    "    count=0\n",
    "    max_int=0\n",
    "    for i in range(len(a)):\n",
    "        if a[i]==1:\n",
    "            count+=1\n",
    "            max_int=max(count,max_int)\n",
    "        else:\n",
    "            count=0\n",
    "    return max_int\n",
    "if __name__==\"__main__\":\n",
    "    a=[1,1,0,1,1,1]\n",
    "    print(fun(a))\n",
    "    b=[1,0,1,1,0,1]\n",
    "    print(fun(b))                \n"
   ]
  }
 ],
 "metadata": {
  "kernelspec": {
   "display_name": "base",
   "language": "python",
   "name": "python3"
  },
  "language_info": {
   "codemirror_mode": {
    "name": "ipython",
    "version": 3
   },
   "file_extension": ".py",
   "mimetype": "text/x-python",
   "name": "python",
   "nbconvert_exporter": "python",
   "pygments_lexer": "ipython3",
   "version": "3.10.9"
  }
 },
 "nbformat": 4,
 "nbformat_minor": 2
}
